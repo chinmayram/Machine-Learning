{
 "cells": [
  {
   "cell_type": "markdown",
   "metadata": {},
   "source": [
    "## Problem Description"
   ]
  },
  {
   "cell_type": "markdown",
   "metadata": {},
   "source": [
    "Newyork is the most popular place in the world, there are lots of business scopes so we have decided to explore \n",
    "its neighbourhoods and find out the best indian restaurents alongside as well as we analyse which place is best \n",
    "suitable for opening a new restaurents for indian foods lover."
   ]
  },
  {
   "cell_type": "markdown",
   "metadata": {},
   "source": [
    "## Data Extarction"
   ]
  },
  {
   "cell_type": "markdown",
   "metadata": {},
   "source": [
    "First we collect newtork data set having its borough and neighbourhood i.e. from internet warehouse data or from wiki page\n",
    "by web scrappping.\n",
    "\n",
    "I use this to extract my data"
   ]
  },
  {
   "cell_type": "code",
   "execution_count": null,
   "metadata": {},
   "outputs": [],
   "source": [
    "!wget -q -O 'newyork_data.json' https://cocl.us/new_york_dataset\n",
    "print('Data downloaded!')\n",
    "\n",
    "with open('newyork_data.json') as json_data:\n",
    "    newyork_data = json.load(json_data)"
   ]
  },
  {
   "cell_type": "markdown",
   "metadata": {},
   "source": [
    "## Data Exploration"
   ]
  },
  {
   "cell_type": "markdown",
   "metadata": {},
   "source": [
    "we store our Newyork Data in Dataframe for further analysis, we make four columns borough, neighbourhood, lattitude and longitude\n",
    "then we use folium to visualize Neywork data in map.\n",
    "\n",
    "Here is the codes below"
   ]
  },
  {
   "cell_type": "code",
   "execution_count": null,
   "metadata": {},
   "outputs": [],
   "source": [
    "\n",
    "map_newyork = folium.Map(location=[latitude, longitude], zoom_start=20)\n",
    "\n",
    "# add markers to map\n",
    "for lat, lng, borough, neighborhood in zip(neighborhoods['Latitude'], neighborhoods['Longitude'], neighborhoods['Borough'], neighborhoods['Neighborhood']):\n",
    "    label = '{}, {}'.format(neighborhood, borough)\n",
    "    label = folium.Popup(label, parse_html=True)\n",
    "    folium.CircleMarker(\n",
    "        [lat, lng],\n",
    "        radius=5,\n",
    "        popup=label,\n",
    "        color='blue',\n",
    "        fill=True,\n",
    "        fill_color='#3186cc',\n",
    "        fill_opacity=0.7,\n",
    "        parse_html=False).add_to(map_newyork)  \n",
    "    \n",
    "map_newyork"
   ]
  },
  {
   "cell_type": "markdown",
   "metadata": {},
   "source": [
    "## Foursquire API"
   ]
  },
  {
   "cell_type": "markdown",
   "metadata": {},
   "source": [
    "Then we Use foursquire api toi find the places having most indian restaurents nearby. we can also use tips provided by other \n",
    "users rating data from foursquire then we visualize the most located and good indian restaurents by bar plot and we get the\n",
    "results.\n",
    "\n",
    "Here is the codes below"
   ]
  },
  {
   "cell_type": "code",
   "execution_count": null,
   "metadata": {},
   "outputs": [],
   "source": [
    "plt.figure(figsize=(9,5), dpi = 100)\n",
    "# title\n",
    "plt.title('Number of Neighborhood for each Borough in New York City')\n",
    "#On x-axis\n",
    "plt.xlabel('Borough', fontsize = 15)\n",
    "#On y-axis\n",
    "plt.ylabel('No.of Neighborhood', fontsize=15)\n",
    "#giving a bar plot\n",
    "new_york_data.groupby('Borough')['Neighborhood'].count().plot(kind='bar')\n",
    "#legend\n",
    "plt.legend()\n",
    "#displays the plot\n",
    "plt.show()"
   ]
  },
  {
   "cell_type": "markdown",
   "metadata": {},
   "source": [
    "## conclusion"
   ]
  },
  {
   "cell_type": "markdown",
   "metadata": {},
   "source": [
    "After anlysisng we found Manhattan is the best place to open an restaurents and its neighbourhood floral park is famous for indian \n",
    "resataurents. so if we open a restaurents nesr manhattan and floral Park area our business will take a path."
   ]
  },
  {
   "cell_type": "code",
   "execution_count": null,
   "metadata": {},
   "outputs": [],
   "source": []
  }
 ],
 "metadata": {
  "kernelspec": {
   "display_name": "Python",
   "language": "python",
   "name": "conda-env-python-py"
  },
  "language_info": {
   "codemirror_mode": {
    "name": "ipython",
    "version": 3
   },
   "file_extension": ".py",
   "mimetype": "text/x-python",
   "name": "python",
   "nbconvert_exporter": "python",
   "pygments_lexer": "ipython3",
   "version": "3.6.7"
  }
 },
 "nbformat": 4,
 "nbformat_minor": 4
}
